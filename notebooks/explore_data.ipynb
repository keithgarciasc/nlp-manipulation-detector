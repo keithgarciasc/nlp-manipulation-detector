{
 "cells": [
  {
   "cell_type": "code",
   "execution_count": null,
   "id": "b330644d",
   "metadata": {},
   "outputs": [],
   "source": [
    "#Import Libraries\n",
    "import pandas as pd\n",
    "import matplotlib.pyplot as plt\n"
   ]
  },
  {
   "cell_type": "code",
   "execution_count": null,
   "id": "fbbc007b",
   "metadata": {},
   "outputs": [],
   "source": [
    "#Load Dataset\n",
    "filename = \"tweets.txt\"\n",
    "location_relative_path = f\"../data/raw/update/{filename}\"\n",
    "new_location_relative_path = f\"../data/processed/{filename}\"\n",
    "df = pd.read_csv(new_location_relative_path, sep=\"|\")\n"
   ]
  },
  {
   "cell_type": "code",
   "execution_count": null,
   "id": "4538397c",
   "metadata": {},
   "outputs": [],
   "source": [
    "#Initial Inspection\n",
    "print(df.info())\n",
    "print(df.head())\n"
   ]
  },
  {
   "cell_type": "code",
   "execution_count": null,
   "id": "89675552",
   "metadata": {},
   "outputs": [],
   "source": [
    "#Label Distribution\n",
    "print(df['manipulative'].value_counts())\n",
    "df['manipulative'].value_counts().plot(kind='bar', title='Label Distribution')\n",
    "plt.show()"
   ]
  },
  {
   "cell_type": "code",
   "execution_count": null,
   "id": "370d2754",
   "metadata": {},
   "outputs": [],
   "source": [
    "#Text length Stats\n",
    "df['text_length'] = df['text'].apply(len)\n",
    "print(df['text_length'].describe())"
   ]
  },
  {
   "cell_type": "code",
   "execution_count": null,
   "id": "31be3f1b",
   "metadata": {},
   "outputs": [],
   "source": [
    "# Count missing values in each column\n",
    "print(\"Missing values:\")\n",
    "print(df[['text', 'manipulative']].isnull().sum())\n",
    "\n",
    "# Show rows with missing values\n",
    "print(\"\\nRows with missing values:\")\n",
    "print(df[df[['text', 'manipulative']].isnull().any(axis=1)])\n"
   ]
  },
  {
   "cell_type": "code",
   "execution_count": null,
   "id": "cfe792e8",
   "metadata": {},
   "outputs": [],
   "source": [
    "# Count duplicate rows based on 'text'\n",
    "duplicate_count = df.duplicated(subset='text').sum()\n",
    "print(f\"\\nDuplicate rows based on 'text': {duplicate_count}\")\n",
    "\n",
    "# Show duplicate rows sorted by text\n",
    "print(\"\\nDuplicate entries (sorted by text):\")\n",
    "duplicates_sorted = df[df.duplicated(subset='text', keep=False)].sort_values(by='text')\n",
    "print(duplicates_sorted)\n"
   ]
  },
  {
   "cell_type": "code",
   "execution_count": null,
   "id": "b0941652",
   "metadata": {},
   "outputs": [],
   "source": [
    "clean_relative_path = f\"../data/processed/cleaned/{filename}\"\n",
    "\n",
    "#Drop rows with missing data\n",
    "df.dropna(subset=['text', 'manipulative'], inplace=True)\n",
    "\n",
    "#Drop Duplicate rows\n",
    "df.drop_duplicates(subset='text', inplace=True)\n",
    "\n",
    "#Save CSV File\n",
    "df[['text', 'manipulative']].to_csv(clean_relative_path, index=False, sep=\"|\")"
   ]
  },
  {
   "cell_type": "code",
   "execution_count": null,
   "id": "e413faf0",
   "metadata": {},
   "outputs": [],
   "source": []
  }
 ],
 "metadata": {
  "kernelspec": {
   "display_name": "Python 3",
   "language": "python",
   "name": "python3"
  },
  "language_info": {
   "codemirror_mode": {
    "name": "ipython",
    "version": 3
   },
   "file_extension": ".py",
   "mimetype": "text/x-python",
   "name": "python",
   "nbconvert_exporter": "python",
   "pygments_lexer": "ipython3",
   "version": "3.9.0"
  }
 },
 "nbformat": 4,
 "nbformat_minor": 5
}
